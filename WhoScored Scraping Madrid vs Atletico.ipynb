{
 "cells": [
  {
   "cell_type": "code",
   "execution_count": 1,
   "id": "936dd08d",
   "metadata": {},
   "outputs": [],
   "source": [
    "import pandas as pd\n",
    "import json\n",
    "# df = pd.json_normalize('1650608.json')"
   ]
  },
  {
   "cell_type": "code",
   "execution_count": 2,
   "id": "1f1f3bb1",
   "metadata": {
    "scrolled": true
   },
   "outputs": [],
   "source": [
    "with open ('1650608.json', encoding='utf8') as f:\n",
    "    data = json.load(f)"
   ]
  },
  {
   "cell_type": "code",
   "execution_count": 3,
   "id": "a033bf92",
   "metadata": {},
   "outputs": [
    {
     "data": {
      "text/plain": [
       "dict_keys(['teamId', 'formations', 'stats', 'incidentEvents', 'shotZones', 'name', 'countryName', 'players', 'managerName', 'scores', 'field', 'averageAge'])"
      ]
     },
     "execution_count": 3,
     "metadata": {},
     "output_type": "execute_result"
    }
   ],
   "source": [
    "data['home'].keys()"
   ]
  },
  {
   "cell_type": "code",
   "execution_count": 8,
   "id": "2d7f0dac",
   "metadata": {},
   "outputs": [
    {
     "data": {
      "text/html": [
       "<div>\n",
       "<style scoped>\n",
       "    .dataframe tbody tr th:only-of-type {\n",
       "        vertical-align: middle;\n",
       "    }\n",
       "\n",
       "    .dataframe tbody tr th {\n",
       "        vertical-align: top;\n",
       "    }\n",
       "\n",
       "    .dataframe thead th {\n",
       "        text-align: right;\n",
       "    }\n",
       "</style>\n",
       "<table border=\"1\" class=\"dataframe\">\n",
       "  <thead>\n",
       "    <tr style=\"text-align: right;\">\n",
       "      <th></th>\n",
       "      <th>id</th>\n",
       "      <th>playerId</th>\n",
       "      <th>teamId</th>\n",
       "      <th>minute</th>\n",
       "      <th>second</th>\n",
       "      <th>type_displayName</th>\n",
       "      <th>outcomeType_displayName</th>\n",
       "      <th>x</th>\n",
       "      <th>y</th>\n",
       "      <th>endX</th>\n",
       "      <th>endY</th>\n",
       "    </tr>\n",
       "  </thead>\n",
       "  <tbody>\n",
       "    <tr>\n",
       "      <th>0</th>\n",
       "      <td>2.462224e+09</td>\n",
       "      <td>NaN</td>\n",
       "      <td>52</td>\n",
       "      <td>0</td>\n",
       "      <td>0.0</td>\n",
       "      <td>Start</td>\n",
       "      <td>Successful</td>\n",
       "      <td>0.0</td>\n",
       "      <td>0.0</td>\n",
       "      <td>NaN</td>\n",
       "      <td>NaN</td>\n",
       "    </tr>\n",
       "    <tr>\n",
       "      <th>1</th>\n",
       "      <td>2.462224e+09</td>\n",
       "      <td>NaN</td>\n",
       "      <td>63</td>\n",
       "      <td>0</td>\n",
       "      <td>0.0</td>\n",
       "      <td>Start</td>\n",
       "      <td>Successful</td>\n",
       "      <td>0.0</td>\n",
       "      <td>0.0</td>\n",
       "      <td>NaN</td>\n",
       "      <td>NaN</td>\n",
       "    </tr>\n",
       "    <tr>\n",
       "      <th>2</th>\n",
       "      <td>2.462224e+09</td>\n",
       "      <td>347862.0</td>\n",
       "      <td>52</td>\n",
       "      <td>0</td>\n",
       "      <td>0.0</td>\n",
       "      <td>Pass</td>\n",
       "      <td>Successful</td>\n",
       "      <td>50.4</td>\n",
       "      <td>50.3</td>\n",
       "      <td>34.3</td>\n",
       "      <td>48.9</td>\n",
       "    </tr>\n",
       "    <tr>\n",
       "      <th>3</th>\n",
       "      <td>2.462224e+09</td>\n",
       "      <td>337879.0</td>\n",
       "      <td>52</td>\n",
       "      <td>0</td>\n",
       "      <td>1.0</td>\n",
       "      <td>Pass</td>\n",
       "      <td>Successful</td>\n",
       "      <td>30.0</td>\n",
       "      <td>41.8</td>\n",
       "      <td>31.0</td>\n",
       "      <td>44.9</td>\n",
       "    </tr>\n",
       "    <tr>\n",
       "      <th>4</th>\n",
       "      <td>2.462224e+09</td>\n",
       "      <td>39722.0</td>\n",
       "      <td>52</td>\n",
       "      <td>0</td>\n",
       "      <td>3.0</td>\n",
       "      <td>Pass</td>\n",
       "      <td>Unsuccessful</td>\n",
       "      <td>31.1</td>\n",
       "      <td>44.9</td>\n",
       "      <td>67.1</td>\n",
       "      <td>6.1</td>\n",
       "    </tr>\n",
       "  </tbody>\n",
       "</table>\n",
       "</div>"
      ],
      "text/plain": [
       "             id  playerId  teamId  minute  second type_displayName  \\\n",
       "0  2.462224e+09       NaN      52       0     0.0            Start   \n",
       "1  2.462224e+09       NaN      63       0     0.0            Start   \n",
       "2  2.462224e+09  347862.0      52       0     0.0             Pass   \n",
       "3  2.462224e+09  337879.0      52       0     1.0             Pass   \n",
       "4  2.462224e+09   39722.0      52       0     3.0             Pass   \n",
       "\n",
       "  outcomeType_displayName     x     y  endX  endY  \n",
       "0              Successful   0.0   0.0   NaN   NaN  \n",
       "1              Successful   0.0   0.0   NaN   NaN  \n",
       "2              Successful  50.4  50.3  34.3  48.9  \n",
       "3              Successful  30.0  41.8  31.0  44.9  \n",
       "4            Unsuccessful  31.1  44.9  67.1   6.1  "
      ]
     },
     "execution_count": 8,
     "metadata": {},
     "output_type": "execute_result"
    }
   ],
   "source": [
    "df = pd.json_normalize(data['events'], sep='_')\n",
    "pd.set_option('display.max_columns', None)\n",
    "df = df[['id', 'playerId', 'teamId', 'minute', 'second', 'type_displayName', 'outcomeType_displayName', 'x', 'y', 'endX', 'endY']]\n",
    "df.head()"
   ]
  },
  {
   "cell_type": "code",
   "execution_count": null,
   "id": "8bad631f",
   "metadata": {},
   "outputs": [],
   "source": []
  }
 ],
 "metadata": {
  "kernelspec": {
   "display_name": "Python 3 (ipykernel)",
   "language": "python",
   "name": "python3"
  },
  "language_info": {
   "codemirror_mode": {
    "name": "ipython",
    "version": 3
   },
   "file_extension": ".py",
   "mimetype": "text/x-python",
   "name": "python",
   "nbconvert_exporter": "python",
   "pygments_lexer": "ipython3",
   "version": "3.10.2"
  }
 },
 "nbformat": 4,
 "nbformat_minor": 5
}
